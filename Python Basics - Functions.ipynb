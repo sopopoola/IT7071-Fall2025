{
 "cells": [
  {
   "cell_type": "markdown",
   "metadata": {},
   "source": [
    "# Python Basics - Functions\n",
    "\n",
    "This notebook explain user-defined functions"
   ]
  },
  {
   "cell_type": "code",
   "execution_count": 1,
   "metadata": {
    "collapsed": false,
    "scrolled": true
   },
   "outputs": [
    {
     "name": "stdout",
     "output_type": "stream",
     "text": [
      "\n",
      "    ┈┈╱╲┈┈┈╱╲┈┈╭━╮┈\n",
      "    ┈╱╱╲╲__╱╱╲╲┈╰╮┃┈\n",
      "    ┈▏┏┳╮┈╭┳┓▕┈┈┃┃┈\n",
      "    ┈▏╰┻┛▼┗┻╯▕┈┈┃┃┈\n",
      "    ┈╲┈┈╰┻╯┈┈╱▔▔┈┃┈\n",
      "    ┈┈╰━┳━━━╯┈┈┈┈┃┈\n",
      "    ┈┈┈┈┃┏┓┣━━┳┳┓┃┈\n",
      "    ┈┈┈┈┗┛┗┛┈┈┗┛┗┛┈\n",
      "    \n",
      "\n",
      "    ┈┈╱╲┈┈┈╱╲┈┈╭━╮┈\n",
      "    ┈╱╱╲╲__╱╱╲╲┈╰╮┃┈\n",
      "    ┈▏┏┳╮┈╭┳┓▕┈┈┃┃┈\n",
      "    ┈▏╰┻┛▼┗┻╯▕┈┈┃┃┈\n",
      "    ┈╲┈┈╰┻╯┈┈╱▔▔┈┃┈\n",
      "    ┈┈╰━┳━━━╯┈┈┈┈┃┈\n",
      "    ┈┈┈┈┃┏┓┣━━┳┳┓┃┈\n",
      "    ┈┈┈┈┗┛┗┛┈┈┗┛┗┛┈\n",
      "    \n",
      "\n",
      "    ┈┈╱╲┈┈┈╱╲┈┈╭━╮┈\n",
      "    ┈╱╱╲╲__╱╱╲╲┈╰╮┃┈\n",
      "    ┈▏┏┳╮┈╭┳┓▕┈┈┃┃┈\n",
      "    ┈▏╰┻┛▼┗┻╯▕┈┈┃┃┈\n",
      "    ┈╲┈┈╰┻╯┈┈╱▔▔┈┃┈\n",
      "    ┈┈╰━┳━━━╯┈┈┈┈┃┈\n",
      "    ┈┈┈┈┃┏┓┣━━┳┳┓┃┈\n",
      "    ┈┈┈┈┗┛┗┛┈┈┗┛┗┛┈\n",
      "    \n"
     ]
    }
   ],
   "source": [
    "#Function is for code reuse\n",
    "#The following example shows that an \"action\" is repeated. There is no passing of parameters \n",
    "\n",
    "\n",
    "def print_cat():\n",
    "\n",
    "    print('''\n",
    "    ┈┈╱╲┈┈┈╱╲┈┈╭━╮┈\n",
    "    ┈╱╱╲╲__╱╱╲╲┈╰╮┃┈\n",
    "    ┈▏┏┳╮┈╭┳┓▕┈┈┃┃┈\n",
    "    ┈▏╰┻┛▼┗┻╯▕┈┈┃┃┈\n",
    "    ┈╲┈┈╰┻╯┈┈╱▔▔┈┃┈\n",
    "    ┈┈╰━┳━━━╯┈┈┈┈┃┈\n",
    "    ┈┈┈┈┃┏┓┣━━┳┳┓┃┈\n",
    "    ┈┈┈┈┗┛┗┛┈┈┗┛┗┛┈\n",
    "    ''')\n",
    "    \n",
    "for _ in range(3):\n",
    "    print_cat()"
   ]
  },
  {
   "cell_type": "code",
   "execution_count": 4,
   "metadata": {
    "collapsed": false,
    "scrolled": true
   },
   "outputs": [
    {
     "name": "stdout",
     "output_type": "stream",
     "text": [
      "\n",
      "        ┈┈╱╲┈┈┈╱╲┈┈╭━╮┈\n",
      "        ┈╱╱╲╲__╱╱╲╲┈╰╮┃┈\n",
      "        ┈▏┏┳╮┈╭┳┓▕┈┈┃┃┈\n",
      "        ┈▏╰┻┛▼┗┻╯▕┈┈┃┃┈\n",
      "        ┈╲┈┈╰┻╯┈┈╱▔▔┈┃┈\n",
      "        ┈┈╰━┳━━━╯┈┈┈┈┃┈\n",
      "        ┈┈┈┈┃┏┓┣━━┳┳┓┃┈\n",
      "        ┈┈┈┈┗┛┗┛┈┈┗┛┗┛┈\n",
      "        \n",
      "\n",
      "        ┈┈╱╲┈┈┈╱╲┈┈╭━╮┈\n",
      "        ┈╱╱╲╲__╱╱╲╲┈╰╮┃┈\n",
      "        ┈▏┏┳╮┈╭┳┓▕┈┈┃┃┈\n",
      "        ┈▏╰┻┛▼┗┻╯▕┈┈┃┃┈\n",
      "        ┈╲┈┈╰┻╯┈┈╱▔▔┈┃┈\n",
      "        ┈┈╰━┳━━━╯┈┈┈┈┃┈\n",
      "        ┈┈┈┈┃┏┓┣━━┳┳┓┃┈\n",
      "        ┈┈┈┈┗┛┗┛┈┈┗┛┗┛┈\n",
      "        \n",
      "\n",
      "        ┈┈╱╲┈┈┈╱╲┈┈╭━╮┈\n",
      "        ┈╱╱╲╲__╱╱╲╲┈╰╮┃┈\n",
      "        ┈▏┏┳╮┈╭┳┓▕┈┈┃┃┈\n",
      "        ┈▏╰┻┛▼┗┻╯▕┈┈┃┃┈\n",
      "        ┈╲┈┈╰┻╯┈┈╱▔▔┈┃┈\n",
      "        ┈┈╰━┳━━━╯┈┈┈┈┃┈\n",
      "        ┈┈┈┈┃┏┓┣━━┳┳┓┃┈\n",
      "        ┈┈┈┈┗┛┗┛┈┈┗┛┗┛┈\n",
      "        \n"
     ]
    }
   ],
   "source": [
    "#in this example, the function takes an input value from the function call\n",
    "#this value is then assigned to a local variable \n",
    "#the local variable is only valid within the code block it's within \n",
    "\n",
    "def print_cats(n):\n",
    "    for _ in range(n):\n",
    "        print('''\n",
    "        ┈┈╱╲┈┈┈╱╲┈┈╭━╮┈\n",
    "        ┈╱╱╲╲__╱╱╲╲┈╰╮┃┈\n",
    "        ┈▏┏┳╮┈╭┳┓▕┈┈┃┃┈\n",
    "        ┈▏╰┻┛▼┗┻╯▕┈┈┃┃┈\n",
    "        ┈╲┈┈╰┻╯┈┈╱▔▔┈┃┈\n",
    "        ┈┈╰━┳━━━╯┈┈┈┈┃┈\n",
    "        ┈┈┈┈┃┏┓┣━━┳┳┓┃┈\n",
    "        ┈┈┈┈┗┛┗┛┈┈┗┛┗┛┈\n",
    "        ''')\n",
    "    \n",
    "print_cats(3)"
   ]
  },
  {
   "cell_type": "code",
   "execution_count": 8,
   "metadata": {
    "collapsed": false
   },
   "outputs": [
    {
     "name": "stdout",
     "output_type": "stream",
     "text": [
      "a = 3 b = 4\n",
      "a = 4 b = 3\n"
     ]
    }
   ],
   "source": [
    "#this example takes multiple input values and return multiple values to the function call\n",
    "def switch_values(a,b):\n",
    "    temp = a; \n",
    "    a = b;\n",
    "    b = temp;\n",
    "    return a,b\n",
    "\n",
    "a=3\n",
    "b=4\n",
    "print(\"a =\",a,\"b =\", b)\n",
    "a,b = switch_values(a,b)\n",
    "print(\"a =\",a,\"b =\", b)"
   ]
  },
  {
   "cell_type": "code",
   "execution_count": 27,
   "metadata": {
    "collapsed": false
   },
   "outputs": [
    {
     "name": "stdout",
     "output_type": "stream",
     "text": [
      "8\n",
      "5\n",
      "97\n",
      "65\n",
      "[('Tom', 3.8), ('Mark', 3.25), ('Chris', 2.98)]\n",
      "Please type your name below: Chengcheng Li\n",
      "Good morning Chengcheng Li !\n"
     ]
    }
   ],
   "source": [
    "#python has many useful build in functions that you can call directly\n",
    "#here are some examples from https://docs.python.org/3/library/functions.html \n",
    "\n",
    "print(abs(-8))\n",
    "print(len([3,5,6,7,[3,5,3]]))\n",
    "print(ord('a'))\n",
    "print(ord('A'))\n",
    "\n",
    "name_list=['Tom','Mark','Chris']\n",
    "grade_list=[3.8, 3.25, 2.98, 4.0, 3.15]\n",
    "#zip function combines elements from multiple lists to create zip object\n",
    "#the list function convert the zip object to a list\n",
    "paired = list(zip(name_list, grade_list)) \n",
    "print(paired)\n",
    "\n",
    "username = input(\"Please type your name below: \")\n",
    "print(\"Good morning\",username, \"!\")"
   ]
  },
  {
   "cell_type": "code",
   "execution_count": 24,
   "metadata": {
    "collapsed": false
   },
   "outputs": [
    {
     "name": "stdout",
     "output_type": "stream",
     "text": [
      "4.47213595499958\n",
      "1024.0\n",
      "0.9999999992655284\n"
     ]
    },
    {
     "data": {
      "text/plain": [
       "<function print>"
      ]
     },
     "execution_count": 24,
     "metadata": {},
     "output_type": "execute_result"
    }
   ],
   "source": [
    "#When you import a library/package, you imported the functions and variables defined by this library/package\n",
    "import math\n",
    "print(math.sqrt(20))\n",
    "print(math.pow(2,10))\n",
    "print(math.sin(3.141516/2))\n"
   ]
  },
  {
   "cell_type": "code",
   "execution_count": 1,
   "metadata": {
    "collapsed": false
   },
   "outputs": [
    {
     "name": "stdout",
     "output_type": "stream",
     "text": [
      "25\n",
      "49\n"
     ]
    }
   ],
   "source": [
    "#assign a function as a variable \n",
    "def squared(func, variable):\n",
    "    return func(variable)**2\n",
    "\n",
    "def function_1(variable):\n",
    "    return variable*2-1\n",
    "\n",
    "def function_2(variable):\n",
    "    return variable*2+1\n",
    "\n",
    "print(squared(function_1,3))\n",
    "print(squared(function_2,3))"
   ]
  },
  {
   "cell_type": "code",
   "execution_count": 17,
   "metadata": {
    "collapsed": false
   },
   "outputs": [
    {
     "name": "stdout",
     "output_type": "stream",
     "text": [
      "25\n",
      "49\n"
     ]
    }
   ],
   "source": [
    "#use lambda to define a function\n",
    "func_1 =lambda x:x*2-1 \n",
    "func_2 =lambda x:x*2+1\n",
    "print(squared(func_1,3))\n",
    "print(squared(func_2,3))\n",
    "\n",
    "\n",
    "#(lambda x:x*2+1) (4)"
   ]
  },
  {
   "cell_type": "code",
   "execution_count": 16,
   "metadata": {
    "collapsed": false
   },
   "outputs": [
    {
     "name": "stdout",
     "output_type": "stream",
     "text": [
      "fail\n"
     ]
    }
   ],
   "source": [
    "score = 55\n",
    "grade=\"pass\" if score >75 else \"fail\"\n",
    "print(grade)"
   ]
  },
  {
   "cell_type": "code",
   "execution_count": 19,
   "metadata": {
    "collapsed": false
   },
   "outputs": [
    {
     "data": {
      "text/plain": [
       "-1.0"
      ]
     },
     "execution_count": 19,
     "metadata": {},
     "output_type": "execute_result"
    }
   ],
   "source": [
    "import math \n",
    "math.cos(math.pi)"
   ]
  },
  {
   "cell_type": "code",
   "execution_count": 23,
   "metadata": {
    "collapsed": false
   },
   "outputs": [
    {
     "name": "stdout",
     "output_type": "stream",
     "text": [
      "6\n"
     ]
    },
    {
     "ename": "NameError",
     "evalue": "name 'total' is not defined",
     "output_type": "error",
     "traceback": [
      "\u001b[0;31m---------------------------------------------------------------------------\u001b[0m",
      "\u001b[0;31mNameError\u001b[0m                                 Traceback (most recent call last)",
      "\u001b[0;32m<ipython-input-23-669faa588d6d>\u001b[0m in \u001b[0;36m<module>\u001b[0;34m()\u001b[0m\n\u001b[1;32m      7\u001b[0m \u001b[1;33m\u001b[0m\u001b[0m\n\u001b[1;32m      8\u001b[0m \u001b[0mprint\u001b[0m\u001b[1;33m(\u001b[0m\u001b[0mfact\u001b[0m\u001b[1;33m(\u001b[0m\u001b[1;36m3\u001b[0m\u001b[1;33m)\u001b[0m\u001b[1;33m)\u001b[0m\u001b[1;33m\u001b[0m\u001b[0m\n\u001b[0;32m----> 9\u001b[0;31m \u001b[0mprint\u001b[0m\u001b[1;33m(\u001b[0m\u001b[0mtotal\u001b[0m\u001b[1;33m)\u001b[0m\u001b[1;33m\u001b[0m\u001b[0m\n\u001b[0m",
      "\u001b[0;31mNameError\u001b[0m: name 'total' is not defined"
     ]
    }
   ],
   "source": [
    "#variable Scope \n",
    "def fact(n):\n",
    "    total =1\n",
    "    for i in range(1,n+1):\n",
    "        total *= i\n",
    "    return total\n",
    "\n",
    "print(fact(3))\n",
    "#total is a local variable that  only works inside \n",
    "#the code block it is declared \n",
    "print(total)"
   ]
  },
  {
   "cell_type": "code",
   "execution_count": null,
   "metadata": {
    "collapsed": true
   },
   "outputs": [],
   "source": []
  }
 ],
 "metadata": {
  "kernelspec": {
   "display_name": "Python [conda root]",
   "language": "python",
   "name": "conda-root-py"
  },
  "language_info": {
   "codemirror_mode": {
    "name": "ipython",
    "version": 3
   },
   "file_extension": ".py",
   "mimetype": "text/x-python",
   "name": "python",
   "nbconvert_exporter": "python",
   "pygments_lexer": "ipython3",
   "version": "3.5.2"
  }
 },
 "nbformat": 4,
 "nbformat_minor": 0
}
