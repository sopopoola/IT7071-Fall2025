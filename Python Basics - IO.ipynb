{
 "cells": [
  {
   "cell_type": "markdown",
   "metadata": {},
   "source": [
    "# Python Basics - I/O\n",
    "\n",
    "Python Input/output operations"
   ]
  },
  {
   "cell_type": "code",
   "execution_count": 1,
   "metadata": {
    "collapsed": false
   },
   "outputs": [
    {
     "name": "stdout",
     "output_type": "stream",
     "text": [
      "Please type your name below: Tom\n",
      "Good morning Tom !\n"
     ]
    }
   ],
   "source": [
    "#We can use input() and print() to take I/O operations on terminal\n",
    "username = input(\"Please type your name below: \")\n",
    "print(\"Good morning\",username, \"!\")"
   ]
  },
  {
   "cell_type": "code",
   "execution_count": 2,
   "metadata": {
    "collapsed": false
   },
   "outputs": [],
   "source": [
    "#create a text file using open()\n",
    "#if file doesn't exist, the file will be created\n",
    "#find the right path, mode, and make sure you have permission reading and writing on that path\n",
    "f=open(\"data.txt\", \"w\")\n",
    "\n",
    "n=1\n",
    "for i in range(20,100,3):\n",
    "    f.write(str(n)+\"\\t\"+str(i)+\"\\n\")\n",
    "    n += 1\n",
    "#close the file after operating on it to save resources\n",
    "f.close()\n",
    "\n",
    "#open the file manually to see the content"
   ]
  },
  {
   "cell_type": "code",
   "execution_count": 3,
   "metadata": {
    "collapsed": false
   },
   "outputs": [
    {
     "name": "stdout",
     "output_type": "stream",
     "text": [
      "1\t20\n",
      "2\t23\n",
      "3\t26\n",
      "4\t29\n",
      "5\t32\n",
      "6\t35\n",
      "7\t38\n",
      "8\t41\n",
      "9\t44\n",
      "10\t47\n",
      "11\t50\n",
      "12\t53\n",
      "13\t56\n",
      "14\t59\n",
      "15\t62\n",
      "16\t65\n",
      "17\t68\n",
      "18\t71\n",
      "19\t74\n",
      "20\t77\n",
      "21\t80\n",
      "22\t83\n",
      "23\t86\n",
      "24\t89\n",
      "25\t92\n",
      "26\t95\n",
      "27\t98\n",
      "\n",
      "<class 'str'>\n",
      "['1', '2', '3', '4', '5', '6', '7', '8', '9', '10', '11', '12', '13', '14', '15', '16', '17', '18', '19', '20', '21', '22', '23', '24', '25', '26', '27']\n",
      "['20', '23', '26', '29', '32', '35', '38', '41', '44', '47', '50', '53', '56', '59', '62', '65', '68', '71', '74', '77', '80', '83', '86', '89', '92', '95', '98']\n"
     ]
    }
   ],
   "source": [
    "#read from a text file\n",
    "#use read() to read() read in the data file as a single string value\n",
    "f=open(\"data.txt\",\"r\")\n",
    "data = f.read()\n",
    "f.close()\n",
    "print(data)\n",
    "print(type(data))\n",
    "\n",
    "#use for loop to read in one line at a time\n",
    "f=open(\"data.txt\",\"r\")\n",
    "lines=[]\n",
    "indices=[]\n",
    "values=[]\n",
    "for line in f:    \n",
    "    lines.append(line)\n",
    "    #use .append() and .split() to create index and value lists\n",
    "    indices.append(line.split()[0])\n",
    "    values.append(line.split()[1])\n",
    "f.close()\n",
    "\n",
    "print(indices)\n",
    "print(values)\n",
    "\n"
   ]
  },
  {
   "cell_type": "code",
   "execution_count": 6,
   "metadata": {
    "collapsed": false
   },
   "outputs": [],
   "source": [
    "#Quiz: compare the following code and the one above. What is the difference? \n",
    "#Which is better and why? \n",
    "#use this example to understand the file pointer\n",
    "\n",
    "f=open(\"data.txt\",\"r\")\n",
    "data = f.read()\n",
    "# f.close()\n",
    "f.seek(0)\n",
    "#print(data)\n",
    "#print(type(data))\n",
    "\n",
    "\n",
    "lines=[]\n",
    "indices=[]\n",
    "values=[]\n",
    "for line in f:    \n",
    "    lines.append(line)\n",
    "    \n",
    "    indices.append(line.split()[0])\n",
    "    values.append(line.split()[1])\n",
    "f.close()\n",
    "\n",
    "#print(indices)\n",
    "#print(values)"
   ]
  },
  {
   "cell_type": "code",
   "execution_count": 8,
   "metadata": {
    "collapsed": false
   },
   "outputs": [
    {
     "name": "stdout",
     "output_type": "stream",
     "text": [
      "['1', '2', '3', '4', '5', '6', '7', '8', '9', '10', '11', '12', '13', '14', '15', '16', '17', '18', '19', '20', '21', '22', '23', '24', '25', '26', '27']\n",
      "['20', '23', '26', '29', '32', '35', '38', '41', '44', '47', '50', '53', '56', '59', '62', '65', '68', '71', '74', '77', '80', '83', '86', '89', '92', '95', '98']\n"
     ]
    }
   ],
   "source": [
    "#Quiz: Further compare the following code using \"with ... as\". What's the benefit of using this format\n",
    "#Answer: ensure the file is closed within the code block\n",
    "with open(\"data.txt\",\"r\") as f:\n",
    "    data = f.read()\n",
    "    # f.close()\n",
    "    f.seek(0)\n",
    "#    print(data)\n",
    "#    print(type(data))\n",
    "\n",
    "\n",
    "    lines=[]\n",
    "    indices=[]\n",
    "    values=[]\n",
    "    for line in f:    \n",
    "        lines.append(line)\n",
    "\n",
    "        indices.append(line.split()[0])\n",
    "        values.append(line.split()[1])\n",
    "\n",
    "\n",
    "    print(indices)\n",
    "    print(values)"
   ]
  },
  {
   "cell_type": "code",
   "execution_count": null,
   "metadata": {
    "collapsed": true
   },
   "outputs": [],
   "source": []
  },
  {
   "cell_type": "code",
   "execution_count": null,
   "metadata": {
    "collapsed": true
   },
   "outputs": [],
   "source": []
  }
 ],
 "metadata": {
  "anaconda-cloud": {},
  "kernelspec": {
   "display_name": "Python [conda root]",
   "language": "python",
   "name": "conda-root-py"
  },
  "language_info": {
   "codemirror_mode": {
    "name": "ipython",
    "version": 3
   },
   "file_extension": ".py",
   "mimetype": "text/x-python",
   "name": "python",
   "nbconvert_exporter": "python",
   "pygments_lexer": "ipython3",
   "version": "3.5.2"
  }
 },
 "nbformat": 4,
 "nbformat_minor": 0
}
