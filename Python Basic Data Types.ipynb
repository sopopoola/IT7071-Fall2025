{
 "cells": [
  {
   "cell_type": "markdown",
   "metadata": {},
   "source": [
    "# Python Basics - Data Types\n",
    "\n",
    "This notebook covers basic Python syntax, variable, operations, functions, and other key aspects of Python language\n",
    "for you to start programming Python. It's recommended that you are already familiar with another high level \n",
    "programming language before taking advantage of this notebook. For detailed explanation of each topic covered in \n",
    "this notebook, please use online resources for a more comprehensive study of Python basics. "
   ]
  },
  {
   "cell_type": "code",
   "execution_count": 18,
   "metadata": {
    "collapsed": false,
    "scrolled": false
   },
   "outputs": [
    {
     "name": "stdout",
     "output_type": "stream",
     "text": [
      "<class 'int'>\n",
      "The value of a is  1\n",
      "The starting system memory address that stores variable a is  2012938736\n",
      "The address is usually displayed in hexadecimal format :  0x77fb01f0\n",
      "The address of variable b is  0x77fb01f0\n",
      "\n",
      "Quiz: After we deleted object/variable a, explain what see below: \n",
      "The value of b is  1\n"
     ]
    },
    {
     "ename": "NameError",
     "evalue": "name 'a' is not defined",
     "output_type": "error",
     "traceback": [
      "\u001b[0;31m---------------------------------------------------------------------------\u001b[0m",
      "\u001b[0;31mNameError\u001b[0m                                 Traceback (most recent call last)",
      "\u001b[0;32m<ipython-input-18-ac193d6c5f81>\u001b[0m in \u001b[0;36m<module>\u001b[0;34m()\u001b[0m\n\u001b[1;32m     13\u001b[0m \u001b[0mprint\u001b[0m\u001b[1;33m(\u001b[0m\u001b[1;34m\"\\nQuiz: After we deleted object/variable a, explain what see below: \"\u001b[0m\u001b[1;33m)\u001b[0m\u001b[1;33m\u001b[0m\u001b[0m\n\u001b[1;32m     14\u001b[0m \u001b[0mprint\u001b[0m\u001b[1;33m(\u001b[0m\u001b[1;34m\"The value of b is \"\u001b[0m\u001b[1;33m,\u001b[0m \u001b[0mb\u001b[0m\u001b[1;33m)\u001b[0m\u001b[1;33m\u001b[0m\u001b[0m\n\u001b[0;32m---> 15\u001b[0;31m \u001b[0mprint\u001b[0m\u001b[1;33m(\u001b[0m\u001b[1;34m\"The value of a is \"\u001b[0m\u001b[1;33m,\u001b[0m \u001b[0ma\u001b[0m\u001b[1;33m)\u001b[0m\u001b[1;33m\u001b[0m\u001b[0m\n\u001b[0m\u001b[1;32m     16\u001b[0m \u001b[1;33m\u001b[0m\u001b[0m\n\u001b[1;32m     17\u001b[0m \u001b[1;31m#if b is also deleted, the memory that was allocated for a and b became unassociated memory space.\u001b[0m\u001b[1;33m\u001b[0m\u001b[1;33m\u001b[0m\u001b[0m\n",
      "\u001b[0;31mNameError\u001b[0m: name 'a' is not defined"
     ]
    }
   ],
   "source": [
    "#Integers\n",
    "\n",
    "a=1\n",
    "print(type(a))\n",
    "print(\"The value of a is \", a)\n",
    "print(\"The starting system memory address that stores variable a is \", id(a))\n",
    "print(\"The address is usually displayed in hexadecimal format : \", hex(id(a)))\n",
    "\n",
    "b=a\n",
    "print(\"The address of variable b is \", hex(id(b)))\n",
    "\n",
    "del(a)  #let's delete object/variable a\n",
    "print(\"\\nQuiz: After we deleted object/variable a, explain what see below: \")\n",
    "print(\"The value of b is \", b)\n",
    "print(\"The value of a is \", a)\n",
    "\n",
    "#if b is also deleted, the memory that was allocated for a and b became unassociated memory space.\n",
    "#Python has a mechanism for collecting the \"garbage\" memory to save valuable storage space\n",
    "#data science tasks usually take large chunk of memory spaces. It's a good practice to remove un-needed \n",
    "#varialbes and free variable spaces. \n"
   ]
  },
  {
   "cell_type": "code",
   "execution_count": 44,
   "metadata": {
    "collapsed": false
   },
   "outputs": [
    {
     "name": "stdout",
     "output_type": "stream",
     "text": [
      "<class 'float'>\n",
      "17914000000000.0\n",
      "<class 'float'>\n",
      "<class 'int'>\n",
      "<class 'float'>\n",
      "2.5\n"
     ]
    }
   ],
   "source": [
    "#now, we move on float data type\n",
    "pi=3.14\n",
    "US_2015_GDP_Q2 = 17.914E+12\n",
    "print(type(pi))\n",
    "print(US_2015_GDP_Q2)\n",
    "print(type(US_2015_GDP_Q2))\n",
    "\n",
    "a = 5\n",
    "print(type(a))\n",
    "print(type(a*1.0))\n",
    "print(5/2) #in python2, the result is 2"
   ]
  },
  {
   "cell_type": "code",
   "execution_count": 56,
   "metadata": {
    "collapsed": false
   },
   "outputs": [
    {
     "name": "stdout",
     "output_type": "stream",
     "text": [
      "Are you a python user?\n",
      "Machine can 'learn'.\n",
      "Machine can \"learn\".\n",
      "Machine can \"learn\". \n",
      "This course will introduce you to \n",
      "\t\tbasic machine learning methods\n"
     ]
    }
   ],
   "source": [
    "#string variables\n",
    "a='Are you a'\n",
    "b=\"python user\"\n",
    "c=a+' '+b+\"?\"\n",
    "print(c)\n",
    "print(\"Machine can 'learn'.\")\n",
    "print('Machine can \"learn\".')\n",
    "#use escape characters \n",
    "print(\"Machine can \\\"learn\\\". \\nThis course will introduce you to \\n\\t\\tbasic machine learning methods\")"
   ]
  },
  {
   "cell_type": "code",
   "execution_count": 69,
   "metadata": {
    "collapsed": false
   },
   "outputs": [
    {
     "name": "stdout",
     "output_type": "stream",
     "text": [
      "2 <class 'int'>\n",
      "2 <class 'str'>\n",
      "2 <class 'int'>\n"
     ]
    }
   ],
   "source": [
    "#string integer conversion (casting)\n",
    "a=2\n",
    "print(a, type(a))\n",
    "a=str(a)\n",
    "print(a, type(a))\n",
    "a=int(a)\n",
    "print(a, type(a))"
   ]
  },
  {
   "cell_type": "code",
   "execution_count": 17,
   "metadata": {
    "collapsed": false
   },
   "outputs": [
    {
     "name": "stdout",
     "output_type": "stream",
     "text": [
      "Machine learning and data mining\n",
      "MACHINE LEARNING AND DATA MINING\n",
      "17\n",
      "The string has  32  characters.\n",
      "M\n",
      "['M', 'a', 'c', 'h', 'i', 'n', 'e', ' ', 'L', 'e', 'a', 'r', 'n', 'i', 'n', 'g', ' ', 'a', 'n', 'd', ' ', 'd', 'a', 't', 'a', ' ', 'm', 'i', 'n', 'i', 'n', 'g']\n",
      "and\n",
      "mining\n"
     ]
    }
   ],
   "source": [
    "a=\"Machine Learning and data mining\"\n",
    "#in Notebook, after typing \"a.\", press the Tab key, you will see all the available build-in functions and\n",
    "#attributes of object a. In this case, it's a string variable/object\n",
    "print(a.capitalize())\n",
    "print(a.upper())\n",
    "print(a.find('and'))\n",
    "\n",
    "#Slicing\n",
    "print(\"The string has \",len(a), \" characters.\")\n",
    "print(a[0])\n",
    "print([c for c in a])\n",
    "print(a[17:20])\n",
    "print(a[-6:])"
   ]
  },
  {
   "cell_type": "code",
   "execution_count": 8,
   "metadata": {
    "collapsed": false
   },
   "outputs": [
    {
     "name": "stdout",
     "output_type": "stream",
     "text": [
      "[[13, 5.8, 'John', True], [14, 5.7, 'Mark', False]]\n",
      "2\n",
      "The total number elements is  11\n",
      "[-62, -23, 1.7, 3, 4, 4, 4, 5, 6, 102, 345]\n",
      "[-62, -23, 1.7, 3, 4, 4, 4, 5, 6, 102, 345]\n",
      "[-62, -23, 1.7, 3, 4, 4, 4, 5, 6, 102]\n",
      "[-62, -23, 1.7, 3, 4, 4, 4, 5, 6]\n",
      "[-62, -23, 1.7, 3, 4, 4, 4, 5, 6, 102, 345]\n",
      "[-62, -23, 1.7]\n",
      "[-20, -15, -10, -5, 0, 5, 10, 15]\n",
      "[1, 2, 3, 1, 2, 3, 1, 2, 3, 1, 2, 3, 1, 2, 3, 1, 2, 3, 1, 2, 3, 1, 2, 3, 1, 2, 3, 1, 2, 3]\n",
      "[10, 20, 30]\n"
     ]
    }
   ],
   "source": [
    "#Lists: a list of objects\n",
    "#use \"[]\" and \",\". The element can be any object including lists.\n",
    "list1 = [13,5.8,'John',True]\n",
    "list2 = [14,5.7,'Mark',False]\n",
    "combined = [list1, list2]\n",
    "print(combined)\n",
    "print(len(combined))\n",
    "\n",
    "list3 = [102,3,4,5,6,4,4,-62,1.7,345,-23]\n",
    "print(\"The total number elements is \", len(list3))\n",
    "list3.sort()\n",
    "list4 = sorted(list3)\n",
    "print(list3)\n",
    "print(list4)\n",
    "\n",
    "list3.pop()\n",
    "print(list3)\n",
    "list3.remove(102)\n",
    "print(list3)\n",
    "list3.extend([102,345]) #append can only add one element at a time to the end of the list\n",
    "print(list3)\n",
    "print(list3[:3]) #same as slicing a string\n",
    "\n",
    "#generate a list using range()\n",
    "l = list(range(-20,20,5))\n",
    "print(l)\n",
    "\n",
    "#itemized operation \n",
    "l = [1,2,3]  \n",
    "#we need a list consisting [10,20,30]\n",
    "l_squared = l*10\n",
    "print(l_squared) # * will only duplicate the entire list, not the list items\n",
    "l_squared = [x*10 for x in l]\n",
    "print(l_squared)\n",
    "# we have to generate a new list and iterate through all the items of l\n",
    "# when we learn vectorization, we will see easier solutions"
   ]
  },
  {
   "cell_type": "code",
   "execution_count": 140,
   "metadata": {
    "collapsed": false
   },
   "outputs": [
    {
     "name": "stdout",
     "output_type": "stream",
     "text": [
      "[-62, -23, 1.7, 3, 4, 4, 4, 5, 6, 102, 345] <class 'list'>\n",
      "(-62, -23, 1.7, 3, 4, 4, 4, 5, 6, 102, 345) <class 'tuple'>\n",
      "The index of 7 in tup3 is  2\n",
      "Number 4 appears in tup3  3  times.\n"
     ]
    }
   ],
   "source": [
    "#Tuples: \"immutable\" or \"read-only\" list\n",
    "#use \"()\" and \",\" \n",
    "tup3=tuple(list3)\n",
    "print(list3,type(list3))\n",
    "print(tup3,type(tup3))\n",
    "\n",
    "#when you use the Tab key, you will see Tuples doesn't have as many build-in functions as Lists. Why?\n",
    "print(\"The index of 7 in tup3 is \", tup3.index(1.7))\n",
    "print(\"Number 4 appears in tup3 \",tup3.count(4), ' times.')"
   ]
  },
  {
   "cell_type": "code",
   "execution_count": 150,
   "metadata": {
    "collapsed": false
   },
   "outputs": [
    {
     "name": "stdout",
     "output_type": "stream",
     "text": [
      "{'Name': 'Tom', 'GPA': 3.76, 'Age': 18, 'Sex': 'Male'} <class 'dict'>\n",
      "18\n",
      "dict_keys(['Name', 'GPA', 'Age', 'Sex']) <class 'dict_keys'>\n",
      "dict_values(['Tom', 3.76, 18, 'Male'])\n"
     ]
    }
   ],
   "source": [
    "#Dictionary: index/key value pairs\n",
    "#use \"{}\", \":\", and \",\" \n",
    "\n",
    "Tom={'Name':'Tom','Age':18,'Sex':'Male','GPA':3.76}\n",
    "print(Tom,type(Tom))\n",
    "print(Tom['Age'])\n",
    "print(Tom.keys())\n",
    "print(Tom.values())"
   ]
  },
  {
   "cell_type": "code",
   "execution_count": 159,
   "metadata": {
    "collapsed": false
   },
   "outputs": [
    {
     "name": "stdout",
     "output_type": "stream",
     "text": [
      "<class 'NoneType'>\n",
      "True <class 'bool'>\n",
      "False <class 'bool'>\n",
      "{1, 2, 3, 52, 5} <class 'set'>\n",
      "{2, 3, 5} <class 'set'>\n"
     ]
    }
   ],
   "source": [
    "#Special types\n",
    "a=None\n",
    "print(type(a))\n",
    "a=True\n",
    "print(a,type(a))\n",
    "b=5==2\n",
    "print(b,type(b))\n",
    "\n",
    "list3=[3,5,5,2,52,2,1,1,2]\n",
    "set4=set(list3)\n",
    "print(set4,type(set4))\n",
    "\n",
    "a={3,5,5,2}\n",
    "print(a,type(a))\n"
   ]
  },
  {
   "cell_type": "code",
   "execution_count": 162,
   "metadata": {
    "collapsed": false
   },
   "outputs": [
    {
     "data": {
      "text/plain": [
       "'\\nat this point, you probably already noticed that the variable names we used in the examples\\ndon\\'t help explain the values they store. The program will get hard to read when it gets big\\nIt\\'s a good practice to create meaningful names for variables and functions. Please refer to \\nStyle Guide for Python Code document to learn Python naming conventions. \\n\\nHere is a quick summary\\n1. use complete or partial words to name a variable/function\\n2. use lowercase only \\n3. use \"_\" to separate each word\\n\\nstudent_gpa_list=[3.6,4.0,2.9,3.27]\\nquote_str= \"light tomorrow with today\"\\nvote_variance = calculate_variance(vote_list)\\n...\\n\\n'"
      ]
     },
     "execution_count": 162,
     "metadata": {},
     "output_type": "execute_result"
    }
   ],
   "source": [
    "'''\n",
    "at this point, you probably already noticed that the variable names we used in the examples\n",
    "don't help explain the values they store. The program will get hard to read when it gets big\n",
    "It's a good practice to create meaningful names for variables and functions. Please refer to \n",
    "Style Guide for Python Code document to learn Python naming conventions. \n",
    "\n",
    "Here is a quick summary\n",
    "1. use complete or partial words to name a variable/function\n",
    "2. use lowercase only \n",
    "3. use \"_\" to separate each word\n",
    "\n",
    "student_gpa_list=[3.6,4.0,2.9,3.27]\n",
    "quote_str= \"light tomorrow with today\"\n",
    "vote_variance = calculate_variance(vote_list)\n",
    "...\n",
    "\n",
    "'''\n",
    "\n"
   ]
  },
  {
   "cell_type": "code",
   "execution_count": 164,
   "metadata": {
    "collapsed": false
   },
   "outputs": [
    {
     "name": "stdout",
     "output_type": "stream",
     "text": [
      "5\n",
      "-6.5\n",
      "15.700000000000001\n",
      "2.5\n",
      "2\n",
      "1\n",
      "25\n"
     ]
    }
   ],
   "source": [
    "#Arithmetic operations\n",
    "print(3+2)\n",
    "print(1.5-8)\n",
    "print(5*pi)  //buildin variable \n",
    "print(5/2)\n",
    "print(5//2) //integer division\n",
    "print(5%2)\n",
    "print(5**2)"
   ]
  },
  {
   "cell_type": "code",
   "execution_count": 15,
   "metadata": {
    "collapsed": false
   },
   "outputs": [
    {
     "name": "stdout",
     "output_type": "stream",
     "text": [
      "True\n",
      "True\n",
      "False\n",
      "3.141592653589793\n"
     ]
    }
   ],
   "source": [
    "#Comparison operations\n",
    "import math\n",
    "print(\"a\"=='a')\n",
    "print(\"1\"!=1)\n",
    "print(3.1253>=math.pi)\n",
    "print(math.pi)"
   ]
  },
  {
   "cell_type": "code",
   "execution_count": 16,
   "metadata": {
    "collapsed": false
   },
   "outputs": [
    {
     "name": "stdout",
     "output_type": "stream",
     "text": [
      "24\n",
      "72\n",
      "2\n"
     ]
    }
   ],
   "source": [
    "#Assignment operations\n",
    "base_price=24\n",
    "print(base_price)\n",
    "base_price *= 3\n",
    "print(base_price)\n",
    "base_price %= 10\n",
    "print(base_price)\n"
   ]
  },
  {
   "cell_type": "code",
   "execution_count": null,
   "metadata": {
    "collapsed": true
   },
   "outputs": [],
   "source": []
  }
 ],
 "metadata": {
  "anaconda-cloud": {},
  "kernelspec": {
   "display_name": "Python [conda root]",
   "language": "python",
   "name": "conda-root-py"
  },
  "language_info": {
   "codemirror_mode": {
    "name": "ipython",
    "version": 3
   },
   "file_extension": ".py",
   "mimetype": "text/x-python",
   "name": "python",
   "nbconvert_exporter": "python",
   "pygments_lexer": "ipython3",
   "version": "3.5.2"
  }
 },
 "nbformat": 4,
 "nbformat_minor": 0
}
